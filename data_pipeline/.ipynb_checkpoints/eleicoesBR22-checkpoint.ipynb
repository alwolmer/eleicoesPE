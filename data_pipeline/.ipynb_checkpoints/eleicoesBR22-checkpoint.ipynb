{
 "cells": [
  {
   "cell_type": "markdown",
   "metadata": {
    "id": "sALtAp-KHg5p"
   },
   "source": [
    "# Initialize notebook"
   ]
  },
  {
   "cell_type": "code",
   "execution_count": 49,
   "metadata": {
    "id": "d8tAcJIE3emb"
   },
   "outputs": [],
   "source": [
    "!pip install pandas geopandas numpy IPython -q\n",
    "\n",
    "import pandas as pd\n",
    "import geopandas as gpd\n",
    "import numpy as np\n",
    "from IPython.display import display"
   ]
  },
  {
   "cell_type": "code",
   "execution_count": 50,
   "metadata": {},
   "outputs": [
    {
     "data": {
      "text/plain": [
       "['.ipynb_checkpoints', 'eleicoesBR22.ipynb', 'intermediate', 'render']"
      ]
     },
     "execution_count": 50,
     "metadata": {},
     "output_type": "execute_result"
    }
   ],
   "source": [
    "import os\n",
    "\n",
    "project_root = os.getcwd()\n",
    "os.listdir(project_root)"
   ]
  },
  {
   "cell_type": "code",
   "execution_count": 51,
   "metadata": {
    "colab": {
     "base_uri": "https://localhost:8080/"
    },
    "id": "VXcKb6xM4wGk",
    "outputId": "1cb0aae7-dde0-4d84-b67a-3639829e2a92"
   },
   "outputs": [],
   "source": [
    "# from google.colab import drive\n",
    "# drive.mount ('/content/gdrive/', force_remount=True)"
   ]
  },
  {
   "cell_type": "markdown",
   "metadata": {
    "id": "hSoERHZr7gR8"
   },
   "source": [
    "# Data preprocessing\n",
    "* Group and sum the election results by Municipio\n",
    "* Dissolve the census sectors by Municipio and filter out non-relevant columns (higher than state-level aggregation and urban sprawl flag)"
   ]
  },
  {
   "cell_type": "markdown",
   "metadata": {
    "id": "hSoERHZr7gR8"
   },
   "source": [
    "# Processing electoral results\n",
    "* Download the zipped data from TSE, extract in memory and load into a pandas DataFrame\n",
    "* Filter the relevant columns and group the votes by municipio"
   ]
  },
  {
   "cell_type": "code",
   "execution_count": 52,
   "metadata": {
    "colab": {
     "base_uri": "https://localhost:8080/"
    },
    "id": "1-2BDdD55MHd",
    "outputId": "8c072699-774e-4f8d-e671-689e11b485de"
   },
   "outputs": [
    {
     "name": "stdout",
     "output_type": "stream",
     "text": [
      "(2763316, 26)\n",
      "Index(['DT_GERACAO', 'HH_GERACAO', 'ANO_ELEICAO', 'CD_TIPO_ELEICAO',\n",
      "       'NM_TIPO_ELEICAO', 'NR_TURNO', 'CD_ELEICAO', 'DS_ELEICAO', 'DT_ELEICAO',\n",
      "       'TP_ABRANGENCIA', 'SG_UF', 'SG_UE', 'NM_UE', 'CD_MUNICIPIO',\n",
      "       'NM_MUNICIPIO', 'NR_ZONA', 'NR_SECAO', 'CD_CARGO', 'DS_CARGO',\n",
      "       'NR_VOTAVEL', 'NM_VOTAVEL', 'QT_VOTOS', 'NR_LOCAL_VOTACAO',\n",
      "       'SQ_CANDIDATO', 'NM_LOCAL_VOTACAO', 'DS_LOCAL_VOTACAO_ENDERECO'],\n",
      "      dtype='object')\n"
     ]
    }
   ],
   "source": [
    "import requests\n",
    "import zipfile\n",
    "import os\n",
    "import pandas as pd\n",
    "from io import BytesIO\n",
    "\n",
    "# Define the URL for the dataset\n",
    "UF = 'PE'\n",
    "tse_cdn_url = f'https://cdn.tse.jus.br/estatistica/sead/odsele/votacao_secao/votacao_secao_2022_{UF}.zip'\n",
    "\n",
    "# Download the zip file\n",
    "response = requests.get(tse_cdn_url)\n",
    "if response.status_code == 200:\n",
    "    # Extract the zip file in memory\n",
    "    with zipfile.ZipFile(BytesIO(response.content)) as zfile:\n",
    "        # Find the .csv file within the extracted directory\n",
    "        for file_name in zfile.namelist():\n",
    "            if file_name.endswith('.csv'):\n",
    "                # Read the CSV file directly from the zip archive\n",
    "                with zfile.open(file_name) as csvfile:\n",
    "                    votacao_UF = pd.read_csv(csvfile, delimiter=\";\", encoding=\"latin 1\")\n",
    "                \n",
    "                # Print shape and column names\n",
    "                print(votacao_UF.shape)\n",
    "                print(votacao_UF.columns)"
   ]
  },
  {
   "cell_type": "code",
   "execution_count": 53,
   "metadata": {
    "id": "Zye6T3NN5B6u"
   },
   "outputs": [
    {
     "name": "stdout",
     "output_type": "stream",
     "text": [
      "(83422, 7)\n",
      "Index(['NR_TURNO', 'CD_MUN', 'NM_MUN', 'CD_CARGO', 'NR_VOTAVEL',\n",
      "       'SQ_CANDIDATO', 'QT_VOTOS'],\n",
      "      dtype='object')\n"
     ]
    }
   ],
   "source": [
    "cols = ['NR_TURNO', 'CD_MUNICIPIO', 'NM_MUNICIPIO', 'CD_CARGO', 'NR_VOTAVEL', 'SQ_CANDIDATO', 'QT_VOTOS']\n",
    "cols_ = ['NR_TURNO', 'CD_MUNICIPIO', 'NM_MUNICIPIO', 'CD_CARGO', 'NR_VOTAVEL', 'SQ_CANDIDATO']\n",
    "\n",
    "voto_UF_abrev = votacao_UF[cols]\n",
    "voto_UF_abrev = voto_UF_abrev.groupby(cols_, as_index=False)['QT_VOTOS'].sum()\n",
    "voto_UF_abrev.columns = ['NR_TURNO', 'CD_MUN', 'NM_MUN', 'CD_CARGO', 'NR_VOTAVEL', 'SQ_CANDIDATO', 'QT_VOTOS']\n",
    "voto_UF_abrev.to_csv(f\"{project_root}/intermediate/votacao_mun_2022_{UF}_abrev.csv\", index=False)\n",
    "\n",
    "print(voto_UF_abrev.shape)\n",
    "print(voto_UF_abrev.columns)"
   ]
  },
  {
   "cell_type": "markdown",
   "metadata": {
    "id": "hSoERHZr7gR8"
   },
   "source": [
    "# Processing geographical geometries\n",
    "* Download the zipped data from IBGE, extract in memory and load into a geopandas GeoDataFrame\n",
    "* Filter the relevant columns and group the shapes by municipio"
   ]
  },
  {
   "cell_type": "code",
   "execution_count": 54,
   "metadata": {
    "colab": {
     "base_uri": "https://localhost:8080/"
    },
    "id": "KrDme5wv6CB4",
    "outputId": "ce1ddcf3-a0f5-410b-935a-312d6721798c"
   },
   "outputs": [
    {
     "name": "stdout",
     "output_type": "stream",
     "text": [
      "(17574, 30)\n",
      "Index(['CD_SETOR', 'AREA_KM2', 'CD_REGIAO', 'NM_REGIAO', 'CD_UF', 'NM_UF',\n",
      "       'CD_MUN', 'NM_MUN', 'CD_DIST', 'NM_DIST', 'CD_SUBDIST', 'NM_SUBDIST',\n",
      "       'CD_MICRO', 'NM_MICRO', 'CD_MESO', 'NM_MESO', 'CD_RGI', 'NM_RGI',\n",
      "       'CD_RGINT', 'NM_RGINT', 'CD_CONCURB', 'NM_CONCURB', 'v0001', 'v0002',\n",
      "       'v0003', 'v0004', 'v0005', 'v0006', 'v0007', 'geometry'],\n",
      "      dtype='object')\n"
     ]
    }
   ],
   "source": [
    "ibge_cdn_url = f\"https://ftp.ibge.gov.br/Censos/Censo_Demografico_2022/Agregados_por_Setores_Censitarios_preliminares/malha_com_atributos/setores/json/UF/{UF}/{UF}_Malha_Preliminar_2022.zip\"\n",
    "\n",
    "# Download the zip file\n",
    "response = requests.get(ibge_cdn_url)\n",
    "if response.status_code == 200:\n",
    "    # Extract the zip file in memory\n",
    "    with zipfile.ZipFile(BytesIO(response.content)) as zfile:\n",
    "        # Find the (geo) .json file within the extracted directory\n",
    "        for file_name in zfile.namelist():\n",
    "            if file_name.endswith('.json'):\n",
    "                # Read the json file directly from the zip archive\n",
    "                with zfile.open(file_name) as jsonfile:\n",
    "                   malha_UF = gpd.read_file(jsonfile)\n",
    "                \n",
    "                # Print shape and column names\n",
    "                print(malha_UF.shape)\n",
    "                print(malha_UF.columns)"
   ]
  },
  {
   "cell_type": "code",
   "execution_count": 55,
   "metadata": {
    "id": "MLyCBymN577Z"
   },
   "outputs": [
    {
     "name": "stdout",
     "output_type": "stream",
     "text": [
      "(185, 12)\n",
      "Index(['CD_MUN', 'geometry', 'NM_MUN', 'CD_MICRO', 'NM_MICRO', 'CD_MESO',\n",
      "       'NM_MESO', 'CD_RGI', 'NM_RGI', 'CD_RGINT', 'NM_RGINT', 'v0001'],\n",
      "      dtype='object')\n"
     ]
    }
   ],
   "source": [
    "cols = ['CD_MUN', 'NM_MUN', 'CD_MICRO', 'NM_MICRO', 'CD_MESO',\n",
    "        'NM_MESO', 'CD_RGI', 'NM_RGI', 'CD_RGINT', 'NM_RGINT', 'v0001', 'geometry']\n",
    "cols_ = ['NM_MUN', 'CD_MICRO', 'NM_MICRO', 'CD_MESO',\n",
    "        'NM_MESO', 'CD_RGI', 'NM_RGI', 'CD_RGINT', 'NM_RGINT']\n",
    "\n",
    "agg_dict = {\n",
    "    item: 'first' for item in cols_\n",
    "}\n",
    "\n",
    "agg_dict['v0001'] = 'sum'\n",
    "\n",
    "malha_UF_abrev = malha_UF[cols].dissolve(by='CD_MUN', aggfunc=agg_dict, as_index=False)\n",
    "malha_UF_abrev[cols]\n",
    "\n",
    "malha_UF_abrev.to_file(f'{project_root}/intermediate/malha_{UF}_abrev.geojson', driver='GeoJSON')\n",
    "\n",
    "print(malha_UF_abrev.shape)\n",
    "print(malha_UF_abrev.columns)"
   ]
  },
  {
   "cell_type": "markdown",
   "metadata": {
    "id": "hSoERHZr7gR8"
   },
   "source": [
    "# Processing state candidate data\n",
    "* Download the zipped data from TSE, extract in memory and load into a geopandas GeoDataFrame\n",
    "* Filter the relevant columns and select only candidates from the selected state"
   ]
  },
  {
   "cell_type": "code",
   "execution_count": 56,
   "metadata": {
    "colab": {
     "base_uri": "https://localhost:8080/"
    },
    "id": "ehpW2sSlgdQk",
    "outputId": "c1726a96-f1b7-4624-8aaa-45d2bc1ab80e"
   },
   "outputs": [
    {
     "name": "stdout",
     "output_type": "stream",
     "text": [
      "(29314, 50)\n",
      "Index(['DT_GERACAO', 'HH_GERACAO', 'ANO_ELEICAO', 'CD_TIPO_ELEICAO',\n",
      "       'NM_TIPO_ELEICAO', 'NR_TURNO', 'CD_ELEICAO', 'DS_ELEICAO', 'DT_ELEICAO',\n",
      "       'TP_ABRANGENCIA_ELEICAO', 'SG_UF', 'SG_UE', 'NM_UE', 'CD_CARGO',\n",
      "       'DS_CARGO', 'SQ_CANDIDATO', 'NR_CANDIDATO', 'NM_CANDIDATO',\n",
      "       'NM_URNA_CANDIDATO', 'NM_SOCIAL_CANDIDATO', 'NR_CPF_CANDIDATO',\n",
      "       'DS_EMAIL', 'CD_SITUACAO_CANDIDATURA', 'DS_SITUACAO_CANDIDATURA',\n",
      "       'TP_AGREMIACAO', 'NR_PARTIDO', 'SG_PARTIDO', 'NM_PARTIDO',\n",
      "       'NR_FEDERACAO', 'NM_FEDERACAO', 'SG_FEDERACAO',\n",
      "       'DS_COMPOSICAO_FEDERACAO', 'SQ_COLIGACAO', 'NM_COLIGACAO',\n",
      "       'DS_COMPOSICAO_COLIGACAO', 'SG_UF_NASCIMENTO', 'DT_NASCIMENTO',\n",
      "       'NR_TITULO_ELEITORAL_CANDIDATO', 'CD_GENERO', 'DS_GENERO',\n",
      "       'CD_GRAU_INSTRUCAO', 'DS_GRAU_INSTRUCAO', 'CD_ESTADO_CIVIL',\n",
      "       'DS_ESTADO_CIVIL', 'CD_COR_RACA', 'DS_COR_RACA', 'CD_OCUPACAO',\n",
      "       'DS_OCUPACAO', 'CD_SIT_TOT_TURNO', 'DS_SIT_TOT_TURNO'],\n",
      "      dtype='object')\n"
     ]
    }
   ],
   "source": [
    "# Define the URL for the dataset\n",
    "tse_cdn_url_cand = f'https://cdn.tse.jus.br/estatistica/sead/odsele/consulta_cand/consulta_cand_2022.zip'\n",
    "\n",
    "df_list = []\n",
    "\n",
    "# Download the zip file\n",
    "response = requests.get(tse_cdn_url_cand)\n",
    "if response.status_code == 200:\n",
    "    # Extract the zip file in memory\n",
    "    with zipfile.ZipFile(BytesIO(response.content)) as zfile:\n",
    "        # Find the .csv file within the extracted directory\n",
    "        for file_name in zfile.namelist():\n",
    "            if file_name.endswith('BRASIL.csv'):\n",
    "                # Read the CSV file directly from the zip archive\n",
    "                with zfile.open(file_name) as csvfile:\n",
    "                    cand_BR = pd.read_csv(csvfile, delimiter=\";\", encoding=\"latin 1\")\n",
    "                \n",
    "                # Print shape and column names\n",
    "                print(cand_BR.shape)\n",
    "                print(cand_BR.columns)"
   ]
  },
  {
   "cell_type": "code",
   "execution_count": 57,
   "metadata": {
    "colab": {
     "base_uri": "https://localhost:8080/"
    },
    "id": "SKdMqJUfgo5F",
    "outputId": "7b95ba89-d9ca-4de6-cff1-7806697824bd"
   },
   "outputs": [
    {
     "name": "stdout",
     "output_type": "stream",
     "text": [
      "(1142, 10)\n",
      "Index(['NR_TURNO', 'CD_CARGO', 'SQ_CANDIDATO', 'NM_URNA_CANDIDATO',\n",
      "       'NM_CANDIDATO', 'NR_CANDIDATO', 'NR_PARTIDO', 'SG_PARTIDO',\n",
      "       'CD_SITUACAO_CANDIDATURA', 'CD_SIT_TOT_TURNO'],\n",
      "      dtype='object')\n"
     ]
    }
   ],
   "source": [
    "# situacao_cand_key = cand_PE[['CD_SITUACAO_CANDIDATURA', 'DS_SITUACAO_CANDIDATURA']].drop_duplicates()\n",
    "# situacao_eleicao_key = cand_PE[['CD_SIT_TOT_TURNO', 'DS_SIT_TOT_TURNO']].drop_duplicates()\n",
    "\n",
    "# TODO: collect gender, education, racial data in order to allow for filtering candidates by those traits\n",
    "cols = ['NR_TURNO', 'CD_CARGO', 'SQ_CANDIDATO', 'NM_URNA_CANDIDATO', 'NM_CANDIDATO', 'NR_CANDIDATO', 'NR_PARTIDO', 'SG_PARTIDO', 'CD_SITUACAO_CANDIDATURA', 'CD_SIT_TOT_TURNO']\n",
    "\n",
    "cand_UF = cand_BR[cand_BR['SG_UF'] == UF]\n",
    "cand_UF_abrev = cand_UF[cols].copy()\n",
    "cand_UF_abrev.to_csv(f\"{project_root}/intermediate/cand_2022_{UF}_abrev.csv\", index=False)\n",
    "\n",
    "print(cand_UF_abrev.shape)\n",
    "print(cand_UF_abrev.columns)"
   ]
  },
  {
   "cell_type": "markdown",
   "metadata": {
    "id": "hSoERHZr7gR8"
   },
   "source": [
    "# Loading candidate official photos\n",
    "* Download the zipped data from TSE\n",
    "* Extract in memory, standardize the extension (all to .jpg) and save to the render directory"
   ]
  },
  {
   "cell_type": "code",
   "execution_count": 67,
   "metadata": {},
   "outputs": [
    {
     "name": "stdout",
     "output_type": "stream",
     "text": [
      "Downloaded and extracted photos to render/fotosPE2022\n"
     ]
    }
   ],
   "source": [
    "# Define the URL for the dataset\n",
    "tse_cdn_url_photos = f'https://cdn.tse.jus.br/estatistica/sead/eleicoes/eleicoes2022/fotos/foto_cand2022_{UF}_div.zip'\n",
    "\n",
    "output_dir = f'render/fotos{UF}2022' \n",
    "# Ensure the output directory exists\n",
    "if not os.path.exists(output_dir):\n",
    "    os.makedirs(output_dir)\n",
    "\n",
    "# Download the zip file\n",
    "response = requests.get(tse_cdn_url_photos)\n",
    "if response.status_code == 200:\n",
    "    # Extract the zip file in memory\n",
    "    with zipfile.ZipFile(BytesIO(response.content)) as zfile:\n",
    "        # Loop through all the files in the zip archive\n",
    "        for file_name in zfile.namelist():\n",
    "            # Only consider .jpeg and .jpg files\n",
    "            if file_name.lower().endswith(('.jpeg', '.jpg')):\n",
    "                # Remove the first three characters and \"_div\"\n",
    "                base_name = os.path.basename(file_name)\n",
    "                numeric_part = base_name[3:].replace('_div', '')\n",
    "\n",
    "                # Remove the existing file extension using string slicing\n",
    "                numeric_part_without_ext = numeric_part.rsplit('.', 1)[0]\n",
    "\n",
    "                # Standardize the extension to .jpg\n",
    "                new_file_name = numeric_part_without_ext + '.jpg'\n",
    "\n",
    "                # Save the file with the new extension in the output directory\n",
    "                with zfile.open(file_name) as source_file:\n",
    "                    output_path = os.path.join(output_dir, os.path.basename(new_file_name))\n",
    "                    with open(output_path, 'wb') as dest_file:\n",
    "                        dest_file.write(source_file.read())\n",
    "        print(f'Downloaded and extracted photos to {output_dir}')"
   ]
  },
  {
   "cell_type": "markdown",
   "metadata": {
    "id": "qs-HrUQY8odT"
   },
   "source": [
    "# Load preprocessed data\n"
   ]
  },
  {
   "cell_type": "code",
   "execution_count": 59,
   "metadata": {
    "id": "Zyh0ozB78tYb"
   },
   "outputs": [],
   "source": [
    "voto_UF_abrev = pd.read_csv(f\"{project_root}/intermediate/votacao_mun_2022_{UF}_abrev.csv\")\n",
    "malha_UF_abrev = gpd.read_file(f'{project_root}/intermediate/malha_{UF}_abrev.geojson')\n",
    "cand_UF_abrev = pd.read_csv(f\"{project_root}/intermediate/cand_2022_{UF}_abrev.csv\")"
   ]
  },
  {
   "cell_type": "markdown",
   "metadata": {
    "id": "p1N8lkQv8KxW"
   },
   "source": [
    "# Fix and fill data\n",
    "* TSE (electoral court) and IBGE (geography and statistics institute) both use codes for Municipios, but the systems are no compatible; fuzzy matching by municipio name allows us to assign the IBGE codes to the municipios in the electoral results\n",
    "* Compute the total votes and total valid votes for each municipio to calculate metrics for candidates\n",
    "* Separate the data of interest: nominal votes and legend (party) votes\n",
    "* Filter municipio geographic data to only contain IBGE code, name and shapes"
   ]
  },
  {
   "cell_type": "code",
   "execution_count": 60,
   "metadata": {
    "colab": {
     "base_uri": "https://localhost:8080/",
     "height": 413
    },
    "id": "zsK4qYFd73dr",
    "outputId": "d4c8a5ee-0b06-496d-bdfe-0494a8902dfc"
   },
   "outputs": [
    {
     "data": {
      "text/html": [
       "<div>\n",
       "<style scoped>\n",
       "    .dataframe tbody tr th:only-of-type {\n",
       "        vertical-align: middle;\n",
       "    }\n",
       "\n",
       "    .dataframe tbody tr th {\n",
       "        vertical-align: top;\n",
       "    }\n",
       "\n",
       "    .dataframe thead th {\n",
       "        text-align: right;\n",
       "    }\n",
       "</style>\n",
       "<table border=\"1\" class=\"dataframe\">\n",
       "  <thead>\n",
       "    <tr style=\"text-align: right;\">\n",
       "      <th></th>\n",
       "      <th>NR_TURNO</th>\n",
       "      <th>CD_MUN</th>\n",
       "      <th>NM_MUN</th>\n",
       "      <th>CD_CARGO</th>\n",
       "      <th>NR_VOTAVEL</th>\n",
       "      <th>SQ_CANDIDATO</th>\n",
       "      <th>QT_VOTOS</th>\n",
       "    </tr>\n",
       "  </thead>\n",
       "  <tbody>\n",
       "    <tr>\n",
       "      <th>0</th>\n",
       "      <td>1</td>\n",
       "      <td>23000</td>\n",
       "      <td>QUIXABA</td>\n",
       "      <td>3</td>\n",
       "      <td>14</td>\n",
       "      <td>170001618273</td>\n",
       "      <td>7</td>\n",
       "    </tr>\n",
       "    <tr>\n",
       "      <th>1</th>\n",
       "      <td>1</td>\n",
       "      <td>23000</td>\n",
       "      <td>QUIXABA</td>\n",
       "      <td>3</td>\n",
       "      <td>22</td>\n",
       "      <td>170001602587</td>\n",
       "      <td>213</td>\n",
       "    </tr>\n",
       "    <tr>\n",
       "      <th>2</th>\n",
       "      <td>1</td>\n",
       "      <td>23000</td>\n",
       "      <td>QUIXABA</td>\n",
       "      <td>3</td>\n",
       "      <td>40</td>\n",
       "      <td>170001618087</td>\n",
       "      <td>1011</td>\n",
       "    </tr>\n",
       "    <tr>\n",
       "      <th>3</th>\n",
       "      <td>1</td>\n",
       "      <td>23000</td>\n",
       "      <td>QUIXABA</td>\n",
       "      <td>3</td>\n",
       "      <td>44</td>\n",
       "      <td>170001604111</td>\n",
       "      <td>2044</td>\n",
       "    </tr>\n",
       "    <tr>\n",
       "      <th>4</th>\n",
       "      <td>1</td>\n",
       "      <td>23000</td>\n",
       "      <td>QUIXABA</td>\n",
       "      <td>3</td>\n",
       "      <td>45</td>\n",
       "      <td>170001604087</td>\n",
       "      <td>56</td>\n",
       "    </tr>\n",
       "  </tbody>\n",
       "</table>\n",
       "</div>"
      ],
      "text/plain": [
       "   NR_TURNO  CD_MUN   NM_MUN  CD_CARGO  NR_VOTAVEL  SQ_CANDIDATO  QT_VOTOS\n",
       "0         1   23000  QUIXABA         3          14  170001618273         7\n",
       "1         1   23000  QUIXABA         3          22  170001602587       213\n",
       "2         1   23000  QUIXABA         3          40  170001618087      1011\n",
       "3         1   23000  QUIXABA         3          44  170001604111      2044\n",
       "4         1   23000  QUIXABA         3          45  170001604087        56"
      ]
     },
     "metadata": {},
     "output_type": "display_data"
    },
    {
     "data": {
      "text/html": [
       "<div>\n",
       "<style scoped>\n",
       "    .dataframe tbody tr th:only-of-type {\n",
       "        vertical-align: middle;\n",
       "    }\n",
       "\n",
       "    .dataframe tbody tr th {\n",
       "        vertical-align: top;\n",
       "    }\n",
       "\n",
       "    .dataframe thead th {\n",
       "        text-align: right;\n",
       "    }\n",
       "</style>\n",
       "<table border=\"1\" class=\"dataframe\">\n",
       "  <thead>\n",
       "    <tr style=\"text-align: right;\">\n",
       "      <th></th>\n",
       "      <th>CD_MUN</th>\n",
       "      <th>NR_TURNO</th>\n",
       "      <th>CD_CARGO</th>\n",
       "      <th>NR_VOTAVEL</th>\n",
       "      <th>SQ_CANDIDATO</th>\n",
       "      <th>QT_VOTOS</th>\n",
       "    </tr>\n",
       "  </thead>\n",
       "  <tbody>\n",
       "    <tr>\n",
       "      <th>0</th>\n",
       "      <td>2611533</td>\n",
       "      <td>1</td>\n",
       "      <td>3</td>\n",
       "      <td>14</td>\n",
       "      <td>170001618273</td>\n",
       "      <td>7</td>\n",
       "    </tr>\n",
       "    <tr>\n",
       "      <th>1</th>\n",
       "      <td>2611533</td>\n",
       "      <td>1</td>\n",
       "      <td>3</td>\n",
       "      <td>22</td>\n",
       "      <td>170001602587</td>\n",
       "      <td>213</td>\n",
       "    </tr>\n",
       "    <tr>\n",
       "      <th>2</th>\n",
       "      <td>2611533</td>\n",
       "      <td>1</td>\n",
       "      <td>3</td>\n",
       "      <td>40</td>\n",
       "      <td>170001618087</td>\n",
       "      <td>1011</td>\n",
       "    </tr>\n",
       "    <tr>\n",
       "      <th>3</th>\n",
       "      <td>2611533</td>\n",
       "      <td>1</td>\n",
       "      <td>3</td>\n",
       "      <td>44</td>\n",
       "      <td>170001604111</td>\n",
       "      <td>2044</td>\n",
       "    </tr>\n",
       "    <tr>\n",
       "      <th>4</th>\n",
       "      <td>2611533</td>\n",
       "      <td>1</td>\n",
       "      <td>3</td>\n",
       "      <td>45</td>\n",
       "      <td>170001604087</td>\n",
       "      <td>56</td>\n",
       "    </tr>\n",
       "  </tbody>\n",
       "</table>\n",
       "</div>"
      ],
      "text/plain": [
       "    CD_MUN  NR_TURNO  CD_CARGO  NR_VOTAVEL  SQ_CANDIDATO  QT_VOTOS\n",
       "0  2611533         1         3          14  170001618273         7\n",
       "1  2611533         1         3          22  170001602587       213\n",
       "2  2611533         1         3          40  170001618087      1011\n",
       "3  2611533         1         3          44  170001604111      2044\n",
       "4  2611533         1         3          45  170001604087        56"
      ]
     },
     "metadata": {},
     "output_type": "display_data"
    }
   ],
   "source": [
    "try:\n",
    "  from rapidfuzz import process, fuzz\n",
    "except:\n",
    "  !pip install rapidfuzz -q\n",
    "  from rapidfuzz import process, fuzz\n",
    "\n",
    "# municipios ground truth\n",
    "municipios_gt = malha_UF_abrev[['CD_MUN','NM_MUN']].drop_duplicates()\n",
    "municipios_gt['NM_MUN'] = municipios_gt['NM_MUN'].str.lower().str.strip()\n",
    "\n",
    "match_dict = {}\n",
    "\n",
    "def fuzzy_match(mun_name, mun_df, min_score=80):\n",
    "    if mun_name in match_dict:\n",
    "        return match_dict[mun_name]\n",
    "    best_match = process.extractOne(mun_name.lower().strip(), mun_df['NM_MUN'], scorer=fuzz.ratio, score_cutoff=min_score)\n",
    "    if best_match:\n",
    "        matched_row = mun_df[mun_df['NM_MUN'] == best_match[0]]\n",
    "        code = matched_row['CD_MUN'].values[0]\n",
    "        match_dict[mun_name] = code\n",
    "        return code\n",
    "    return None\n",
    "\n",
    "voto_UF_corrected = voto_UF_abrev.copy()\n",
    "display(voto_UF_corrected.head())\n",
    "voto_UF_corrected['CD_MUN'] = voto_UF_corrected['NM_MUN'].apply(lambda x: fuzzy_match(x, municipios_gt))\n",
    "voto_UF_corrected.drop(columns=['NM_MUN'], inplace=True)\n",
    "voto_UF_corrected = voto_UF_corrected[['CD_MUN', 'NR_TURNO', 'CD_CARGO', 'NR_VOTAVEL', 'SQ_CANDIDATO', 'QT_VOTOS']]\n",
    "\n",
    "display(voto_UF_corrected.head())\n",
    "\n",
    "voto_UF_corrected.to_csv(f\"{project_root}/intermediate/votacao_mun_2022_{UF}_corrected.csv\", index=False)"
   ]
  },
  {
   "cell_type": "code",
   "execution_count": 61,
   "metadata": {
    "colab": {
     "base_uri": "https://localhost:8080/",
     "height": 424
    },
    "id": "j9d-uchxIPuv",
    "outputId": "83fef3f7-8dc0-4e77-ecdc-4fac3bc5319e"
   },
   "outputs": [],
   "source": [
    "voto_mun = voto_UF_corrected.copy()\n",
    "voto_mun_valido = voto_UF_corrected[voto_UF_corrected['SQ_CANDIDATO'] != -1]\n",
    "voto_mun_nominal = voto_UF_corrected[(voto_UF_corrected['SQ_CANDIDATO'] != -1) | (voto_UF_corrected['SQ_CANDIDATO'] == -3)]\n",
    "voto_mun_legenda = voto_UF_corrected[voto_UF_corrected['SQ_CANDIDATO'] == -3]\n",
    "\n",
    "voto_mun_total = voto_mun.groupby(['CD_CARGO', 'NR_TURNO', 'CD_MUN'], as_index=False).agg({'QT_VOTOS': 'sum'})\n",
    "voto_mun_valido_total = voto_mun_valido.groupby(['CD_CARGO', 'NR_TURNO', 'CD_MUN'], as_index=False).agg({'QT_VOTOS': 'sum'})"
   ]
  },
  {
   "cell_type": "code",
   "execution_count": 62,
   "metadata": {
    "colab": {
     "base_uri": "https://localhost:8080/",
     "height": 206
    },
    "id": "VpcPEQP8NMkX",
    "outputId": "ba4cdd32-83ce-4787-a4b8-f26b864d2e1e"
   },
   "outputs": [
    {
     "data": {
      "text/html": [
       "<div>\n",
       "<style scoped>\n",
       "    .dataframe tbody tr th:only-of-type {\n",
       "        vertical-align: middle;\n",
       "    }\n",
       "\n",
       "    .dataframe tbody tr th {\n",
       "        vertical-align: top;\n",
       "    }\n",
       "\n",
       "    .dataframe thead th {\n",
       "        text-align: right;\n",
       "    }\n",
       "</style>\n",
       "<table border=\"1\" class=\"dataframe\">\n",
       "  <thead>\n",
       "    <tr style=\"text-align: right;\">\n",
       "      <th></th>\n",
       "      <th>CD_MUN</th>\n",
       "      <th>NM_MUN</th>\n",
       "      <th>geometry</th>\n",
       "    </tr>\n",
       "  </thead>\n",
       "  <tbody>\n",
       "    <tr>\n",
       "      <th>0</th>\n",
       "      <td>2600054</td>\n",
       "      <td>Abreu e Lima</td>\n",
       "      <td>POLYGON ((-34.92115 -7.92888, -34.92178 -7.929...</td>\n",
       "    </tr>\n",
       "    <tr>\n",
       "      <th>1</th>\n",
       "      <td>2600104</td>\n",
       "      <td>Afogados da Ingazeira</td>\n",
       "      <td>POLYGON ((-37.60467 -7.86002, -37.60408 -7.861...</td>\n",
       "    </tr>\n",
       "    <tr>\n",
       "      <th>2</th>\n",
       "      <td>2600203</td>\n",
       "      <td>Afrânio</td>\n",
       "      <td>POLYGON ((-41.04232 -8.78402, -41.04393 -8.784...</td>\n",
       "    </tr>\n",
       "    <tr>\n",
       "      <th>3</th>\n",
       "      <td>2600302</td>\n",
       "      <td>Agrestina</td>\n",
       "      <td>POLYGON ((-35.94532 -8.53637, -35.9476 -8.5351...</td>\n",
       "    </tr>\n",
       "    <tr>\n",
       "      <th>4</th>\n",
       "      <td>2600401</td>\n",
       "      <td>Água Preta</td>\n",
       "      <td>POLYGON ((-35.55924 -8.83185, -35.55924 -8.831...</td>\n",
       "    </tr>\n",
       "  </tbody>\n",
       "</table>\n",
       "</div>"
      ],
      "text/plain": [
       "    CD_MUN                 NM_MUN  \\\n",
       "0  2600054           Abreu e Lima   \n",
       "1  2600104  Afogados da Ingazeira   \n",
       "2  2600203                Afrânio   \n",
       "3  2600302              Agrestina   \n",
       "4  2600401             Água Preta   \n",
       "\n",
       "                                            geometry  \n",
       "0  POLYGON ((-34.92115 -7.92888, -34.92178 -7.929...  \n",
       "1  POLYGON ((-37.60467 -7.86002, -37.60408 -7.861...  \n",
       "2  POLYGON ((-41.04232 -8.78402, -41.04393 -8.784...  \n",
       "3  POLYGON ((-35.94532 -8.53637, -35.9476 -8.5351...  \n",
       "4  POLYGON ((-35.55924 -8.83185, -35.55924 -8.831...  "
      ]
     },
     "execution_count": 62,
     "metadata": {},
     "output_type": "execute_result"
    }
   ],
   "source": [
    "malha_UF_mun = malha_UF_abrev[['CD_MUN', 'NM_MUN', 'geometry']].copy()\n",
    "malha_UF_mun.head()"
   ]
  },
  {
   "cell_type": "markdown",
   "metadata": {
    "id": "fbMJwY3ADh9A"
   },
   "source": [
    "# Saving to file the components necessary for nominal rendering"
   ]
  },
  {
   "cell_type": "code",
   "execution_count": 66,
   "metadata": {
    "id": "EJVwhd0RDaTC"
   },
   "outputs": [],
   "source": [
    "cand_UF_abrev.to_csv(f\"{project_root}/render/cand_abrev_{UF}_2022.csv\", index=False)\n",
    "\n",
    "voto_mun.to_csv(f\"{project_root}/render/voto_mun_{UF}_2022.csv\", index=False)\n",
    "voto_mun_valido.to_csv(f\"{project_root}/render/voto_mun_valido_{UF}_2022.csv\", index=False)\n",
    "\n",
    "voto_mun_total.to_csv(f\"{project_root}/render/voto_mun_{UF}_total_2022.csv\", index=False)\n",
    "voto_mun_valido_total.to_csv(f\"{project_root}/render/voto_mun_valido_{UF}_total_2022.csv\", index=False)\n",
    "\n",
    "malha_UF_mun.to_file(f\"{project_root}/render/malha_PE_mun.geojson\", driver='GeoJSON')"
   ]
  }
 ],
 "metadata": {
  "colab": {
   "collapsed_sections": [
    "sALtAp-KHg5p",
    "hSoERHZr7gR8"
   ],
   "provenance": []
  },
  "kernelspec": {
   "display_name": "Python 3 (ipykernel)",
   "language": "python",
   "name": "python3"
  },
  "language_info": {
   "codemirror_mode": {
    "name": "ipython",
    "version": 3
   },
   "file_extension": ".py",
   "mimetype": "text/x-python",
   "name": "python",
   "nbconvert_exporter": "python",
   "pygments_lexer": "ipython3",
   "version": "3.12.7"
  }
 },
 "nbformat": 4,
 "nbformat_minor": 4
}
